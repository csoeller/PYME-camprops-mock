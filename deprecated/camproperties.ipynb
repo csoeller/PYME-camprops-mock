{
 "cells": [
  {
   "cell_type": "markdown",
   "metadata": {},
   "source": [
    "### How to load yaml cam configs and access info\n",
    "\n",
    "- supply one config function to access cam dicts for specified property\n",
    "- access functions in cam modules to access cam properties (noise, preampgain,etc)\n",
    "\n",
    "#### cam dict loading\n",
    "\n",
    "- keep it simple: load yamls in sequence from most general to most user specific directory\n",
    "- while walking through those directories construct a master dict that just gets updated with new info and would thus overwrite existing entries with the most user specific ones taking precendence\n",
    "\n",
    "Something like:\n",
    "\n",
    "```\n",
    "def config.loadCamInfo():\n",
    "    camdict = {}\n",
    "    for dir in config_cam_dirs:\n",
    "        for cam_yaml in find_yamls(dir): # perhaps we allow several files that get merged but not necessary\n",
    "            camdict.update(yaml.safe_load(cam_yaml)\n",
    "    return camdict\n",
    "```\n",
    "\n",
    "#### access functions\n",
    "\n",
    "- camera backend specific access functions that consult both hardcoded info and config cam properties to retrieve required info (precedence is config file over hardcoded)\n",
    "- examples below in fakecam classes\n"
   ]
  },
  {
   "cell_type": "markdown",
   "metadata": {},
   "source": [
    "### How to install site wide config files\n",
    "\n",
    "Here I suggest adopting a simple approach as we do for the plugin packages. A site-config repo would contain the cam config files (yaml) and an `install_cams.py` script that copies the relevant camera file(s) to the desired level config directory. (very much similar to the `install_plugins.py` script)"
   ]
  },
  {
   "cell_type": "markdown",
   "metadata": {},
   "source": [
    "### mock functionality that would go in some fashion into PYME.config"
   ]
  },
  {
   "cell_type": "code",
   "execution_count": 1,
   "metadata": {},
   "outputs": [],
   "source": [
    "import yaml\n",
    "import glob\n",
    "\n",
    "# here we read the two files we made (for Andor emCCD and sCMOS) from the info in the hardcoded dicts\n",
    "# in reality we would need to walk through the config directories\n",
    "\n",
    "# this could be a cached read that gets triggered the first time getCamProps is used\n",
    "camProps = {}\n",
    "for yamlfile in glob.glob('*.yaml'):\n",
    "    with open(yamlfile,'r') as fi:\n",
    "        camProps.update(yaml.safe_load(fi))\n",
    "\n",
    "def config_getCamProps(serno,prop):\n",
    "    # possibly generate some warnings for certain cases, e.g. serno exists but property does not\n",
    "    if serno in camProps:\n",
    "        try:\n",
    "            return camProps[serno]['properties'][prop]\n",
    "        except KeyError:\n",
    "            return None\n",
    "    else:\n",
    "        return None"
   ]
  },
  {
   "cell_type": "markdown",
   "metadata": {},
   "source": [
    "### Heterogeneous dictionary structure that is adopted\n",
    "\n",
    "- each camera has an entry (dict-like) accessed by its serial number\n",
    "- the interesting stuff is in the `properties` slot\n",
    "- the `properties` slot has, based an camera type, different sub entries\n",
    "- by convention `name` and `model` slots are present to help identify cam type for the reader\n",
    "- other slots can be added, e.g. a `comment` slot if so desired, for now they are completely ignored\n",
    "\n",
    "Example of sCMOS type entry:"
   ]
  },
  {
   "cell_type": "code",
   "execution_count": 2,
   "metadata": {
    "scrolled": true
   },
   "outputs": [
    {
     "name": "stdout",
     "output_type": "stream",
     "text": [
      "model: Zyla\n",
      "name: Andor sCMOS\n",
      "properties:\n",
      "  noiseProperties:\n",
      "    12-bit (high well capacity):\n",
      "      ADOffset: 100\n",
      "      ElectronsPerCount: 6.97\n",
      "      ReadNoise: 5.96\n",
      "      SaturationThreshold: 2047\n",
      "    12-bit (low noise):\n",
      "      ADOffset: 100\n",
      "      ElectronsPerCount: 0.28\n",
      "      ReadNoise: 1.1\n",
      "      SaturationThreshold: 2047\n",
      "    16-bit (low noise & high well capacity):\n",
      "      ADOffset: 100\n",
      "      ElectronsPerCount: 0.5\n",
      "      ReadNoise: 1.33\n",
      "      SaturationThreshold: 65535\n",
      "\n"
     ]
    }
   ],
   "source": [
    "print(yaml.dump( camProps['VSC-00954'], default_flow_style=False, default_style='' ))"
   ]
  },
  {
   "cell_type": "markdown",
   "metadata": {},
   "source": [
    "Example of emCCD type entry:"
   ]
  },
  {
   "cell_type": "code",
   "execution_count": 3,
   "metadata": {
    "scrolled": true
   },
   "outputs": [
    {
     "name": "stdout",
     "output_type": "stream",
     "text": [
      "model: unknown\n",
      "name: Andor IXON\n",
      "properties:\n",
      "  noiseProperties:\n",
      "    ADOffset: 971\n",
      "    DefaultEMGain: 150\n",
      "    ElectronsPerCount: 27.32\n",
      "    NGainStages: 536\n",
      "    ReadNoise: 109.8\n",
      "    SaturationThreshold: 16383\n",
      "  preampGain: 0\n",
      "\n"
     ]
    }
   ],
   "source": [
    "print(yaml.dump( camProps[1823], default_flow_style=False, default_style='' ))"
   ]
  },
  {
   "cell_type": "markdown",
   "metadata": {},
   "source": [
    "### A couple of fake cams to exercise the cam property lookup\n",
    "\n",
    "The `@property` bits suggest possible implementations of the lookup mechanism"
   ]
  },
  {
   "cell_type": "code",
   "execution_count": 4,
   "metadata": {},
   "outputs": [],
   "source": [
    "class fakecamCMOS(object):\n",
    "    _noise_properties = {} # no hardcoded cams\n",
    "    \n",
    "    def __init__(self):\n",
    "        self.serno = 'CSC-00425'\n",
    "        pass\n",
    "    \n",
    "    def GetSerialNumber(self):\n",
    "        return self.serno\n",
    "    \n",
    "    def SetSerialNumber(self, serno):\n",
    "        self.serno = serno\n",
    "    \n",
    "    def GetSimpleGainMode(self):\n",
    "        return '12-bit (low noise)'\n",
    "\n",
    "    @property\n",
    "    def noise_properties(self):\n",
    "        \"\"\"return the noise properties for a the given camera\n",
    "\n",
    "        \"\"\"\n",
    "        serno = self.GetSerialNumber()\n",
    "        np = config_getCamProps(serno,'noiseProperties')\n",
    "        if np is not None:\n",
    "            try:\n",
    "                return np[self.GetSimpleGainMode()]\n",
    "            except KeyError:\n",
    "                logger.warn('unable to load noiseproperties for gain mode \"%s\" from camera config entry' % self.GetSimpleGainMode())\n",
    "        # if we get to here fall back to hardcoded cameras\n",
    "        try:\n",
    "            return self._noise_properties[serno][self.GetSimpleGainMode()]\n",
    "        except KeyError: # last resort is default set of values\n",
    "            logger.warn('camera specific noise props not found - using default noise props')\n",
    "            return {'ReadNoise' : 1.1,\n",
    "                    'ElectronsPerCount' : 0.28,\n",
    "                    'ADOffset' : 100,\n",
    "                    'SaturationThreshold' : 2**11-1\n",
    "                    }\n"
   ]
  },
  {
   "cell_type": "code",
   "execution_count": 5,
   "metadata": {},
   "outputs": [],
   "source": [
    "fc = fakecamCMOS()"
   ]
  },
  {
   "cell_type": "code",
   "execution_count": 6,
   "metadata": {},
   "outputs": [
    {
     "data": {
      "text/plain": [
       "{'12-bit (low noise)': {'ADOffset': 100,\n",
       "  'ElectronsPerCount': 0.45,\n",
       "  'ReadNoise': 1.21,\n",
       "  'SaturationThreshold': 1776},\n",
       " '16-bit (high dynamic range)': {'ADOffset': 100,\n",
       "  'ElectronsPerCount': 1.08,\n",
       "  'ReadNoise': 1.84,\n",
       "  'SaturationThreshold': 44185}}"
      ]
     },
     "execution_count": 6,
     "metadata": {},
     "output_type": "execute_result"
    }
   ],
   "source": [
    "config_getCamProps(fc.GetSerialNumber(),'noiseProperties')"
   ]
  },
  {
   "cell_type": "code",
   "execution_count": 7,
   "metadata": {},
   "outputs": [
    {
     "data": {
      "text/plain": [
       "{'ADOffset': 100,\n",
       " 'ElectronsPerCount': 0.45,\n",
       " 'ReadNoise': 1.21,\n",
       " 'SaturationThreshold': 1776}"
      ]
     },
     "execution_count": 7,
     "metadata": {},
     "output_type": "execute_result"
    }
   ],
   "source": [
    "fc.noise_properties"
   ]
  },
  {
   "cell_type": "code",
   "execution_count": 8,
   "metadata": {},
   "outputs": [],
   "source": [
    "class fakecamEmCCD(object):\n",
    "    _noise_properties = {\n",
    "        4532 : { #Gain setting of 1\n",
    "        'ReadNoise' : 56.1,\n",
    "        'ElectronsPerCount' : 3.6,\n",
    "        'NGainStages' : 345,\n",
    "        'ADOffset' : 203,\n",
    "        'DefaultEMGain' : 90,\n",
    "        'SaturationThreshold' : 5.4e4#(2**16 -1)\n",
    "        }\n",
    "    } # no hardcoded cams\n",
    "    _preamp_gains = {\n",
    "        4532 : 1\n",
    "    }\n",
    "    \n",
    "    def __init__(self):\n",
    "        self.serno = 1823\n",
    "        pass\n",
    "    \n",
    "    def GetSerialNumber(self):\n",
    "        return self.serno\n",
    "    \n",
    "    def SetSerialNumber(self, serno):\n",
    "        self.serno = serno\n",
    "    \n",
    "    @property\n",
    "    def noise_properties(self):\n",
    "        \"\"\"return the noise properties for a the given camera\n",
    "\n",
    "        \"\"\"\n",
    "        serno = self.GetSerialNumber()\n",
    "        np = config_getCamProps(serno,'noiseProperties')\n",
    "        if np is not None:\n",
    "            return np\n",
    "\n",
    "        # if we get to here fall back to hardcoded cameras\n",
    "        try:\n",
    "            return self._noise_properties[serno]\n",
    "        except KeyError: # we give up if we can't find the noise props\n",
    "            raise RuntimeError('camera specific noise props not found for serial no %d' % serno)\n",
    "\n",
    "    @property\n",
    "    def preampGain(self):\n",
    "        serno = self.GetSerialNumber()\n",
    "        pag = config_getCamProps(serno,'preampGain')\n",
    "        if pag is not None:\n",
    "            return pag\n",
    "        \n",
    "        # if we get to here fall back to hardcoded cameras\n",
    "        try:\n",
    "            return self._preamp_gains[serno]\n",
    "        except KeyError: # last resort is default set of values\n",
    "            return 2 # default value\n",
    "        "
   ]
  },
  {
   "cell_type": "code",
   "execution_count": 9,
   "metadata": {},
   "outputs": [
    {
     "name": "stdout",
     "output_type": "stream",
     "text": [
      "0\n"
     ]
    },
    {
     "data": {
      "text/plain": [
       "{'ADOffset': 971,\n",
       " 'DefaultEMGain': 150,\n",
       " 'ElectronsPerCount': 27.32,\n",
       " 'NGainStages': 536,\n",
       " 'ReadNoise': 109.8,\n",
       " 'SaturationThreshold': 16383}"
      ]
     },
     "execution_count": 9,
     "metadata": {},
     "output_type": "execute_result"
    }
   ],
   "source": [
    "fce = fakecamEmCCD()\n",
    "print(fce.preampGain)\n",
    "fce.noise_properties"
   ]
  },
  {
   "cell_type": "code",
   "execution_count": 10,
   "metadata": {},
   "outputs": [
    {
     "name": "stdout",
     "output_type": "stream",
     "text": [
      "0\n"
     ]
    },
    {
     "data": {
      "text/plain": [
       "{'ADOffset': 413,\n",
       " 'DefaultEMGain': 90,\n",
       " 'ElectronsPerCount': 25.24,\n",
       " 'NGainStages': 536,\n",
       " 'ReadNoise': 61.33,\n",
       " 'SaturationThreshold': 16383}"
      ]
     },
     "execution_count": 10,
     "metadata": {},
     "output_type": "execute_result"
    }
   ],
   "source": [
    "fce.SetSerialNumber(5414)\n",
    "print(fce.preampGain)\n",
    "fce.noise_properties"
   ]
  },
  {
   "cell_type": "code",
   "execution_count": 11,
   "metadata": {},
   "outputs": [
    {
     "name": "stdout",
     "output_type": "stream",
     "text": [
      "1\n"
     ]
    },
    {
     "data": {
      "text/plain": [
       "{'ADOffset': 203,\n",
       " 'DefaultEMGain': 90,\n",
       " 'ElectronsPerCount': 3.6,\n",
       " 'NGainStages': 345,\n",
       " 'ReadNoise': 56.1,\n",
       " 'SaturationThreshold': 54000.0}"
      ]
     },
     "execution_count": 11,
     "metadata": {},
     "output_type": "execute_result"
    }
   ],
   "source": [
    "# now access the hardcoded cam\n",
    "fce.SetSerialNumber(4532)\n",
    "print(fce.preampGain)\n",
    "fce.noise_properties"
   ]
  },
  {
   "cell_type": "code",
   "execution_count": null,
   "metadata": {},
   "outputs": [],
   "source": []
  }
 ],
 "metadata": {
  "kernelspec": {
   "display_name": "Python 2",
   "language": "python",
   "name": "python2"
  },
  "language_info": {
   "codemirror_mode": {
    "name": "ipython",
    "version": 2
   },
   "file_extension": ".py",
   "mimetype": "text/x-python",
   "name": "python",
   "nbconvert_exporter": "python",
   "pygments_lexer": "ipython2",
   "version": "2.7.17"
  }
 },
 "nbformat": 4,
 "nbformat_minor": 2
}
