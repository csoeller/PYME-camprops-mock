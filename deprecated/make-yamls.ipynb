{
 "cells": [
  {
   "cell_type": "markdown",
   "metadata": {},
   "source": [
    "## First wrap existing property lists into a dict structure and output as yaml"
   ]
  },
  {
   "cell_type": "code",
   "execution_count": 1,
   "metadata": {},
   "outputs": [],
   "source": [
    "from camproperties import scmos_noise_properties, emCCD_properties\n",
    "import yaml"
   ]
  },
  {
   "cell_type": "code",
   "execution_count": 2,
   "metadata": {},
   "outputs": [
    {
     "data": {
      "text/plain": [
       "['VSC-00954', 'CSC-00425', 'VSC-02698', 'VSC-02858']"
      ]
     },
     "execution_count": 2,
     "metadata": {},
     "output_type": "execute_result"
    }
   ],
   "source": [
    "scmos_noise_properties.keys()"
   ]
  },
  {
   "cell_type": "code",
   "execution_count": 3,
   "metadata": {},
   "outputs": [
    {
     "data": {
      "text/plain": [
       "{'12-bit (high well capacity)': {'ADOffset': 100,\n",
       "  'ElectronsPerCount': 6.97,\n",
       "  'ReadNoise': 5.96,\n",
       "  'SaturationThreshold': 2047},\n",
       " '12-bit (low noise)': {'ADOffset': 100,\n",
       "  'ElectronsPerCount': 0.28,\n",
       "  'ReadNoise': 1.1,\n",
       "  'SaturationThreshold': 2047},\n",
       " '16-bit (low noise & high well capacity)': {'ADOffset': 100,\n",
       "  'ElectronsPerCount': 0.5,\n",
       "  'ReadNoise': 1.33,\n",
       "  'SaturationThreshold': 65535}}"
      ]
     },
     "execution_count": 3,
     "metadata": {},
     "output_type": "execute_result"
    }
   ],
   "source": [
    "scmos_noise_properties['VSC-00954']"
   ]
  },
  {
   "cell_type": "code",
   "execution_count": 4,
   "metadata": {},
   "outputs": [],
   "source": [
    "def wrapNPsCMOS(cdict):\n",
    "    configdict = {}\n",
    "    for serial in cdict:\n",
    "        camdict = {}\n",
    "        camdict['properties'] = {'noiseProperties': cdict[serial] }\n",
    "        camdict['name'] = 'Andor sCMOS'\n",
    "        if serial.startswith('VSC'):   \n",
    "            camdict['model'] = 'Zyla'\n",
    "        elif serial.startswith('CSC'):\n",
    "            camdict['model'] = 'Sona'\n",
    "        else:\n",
    "            camdict['model'] = 'Unknown'\n",
    "        configdict[serial] = camdict\n",
    "        \n",
    "    return configdict"
   ]
  },
  {
   "cell_type": "code",
   "execution_count": 5,
   "metadata": {},
   "outputs": [],
   "source": [
    "scmos_dict = wrapNPsCMOS(scmos_noise_properties)\n",
    "scmos_dict['CSC-00425']['comment'] = 'a Sona entry where the noise property names are unicode strings; not sure if this matters'"
   ]
  },
  {
   "cell_type": "code",
   "execution_count": 6,
   "metadata": {},
   "outputs": [],
   "source": [
    "def getpreamp(padict,serial):\n",
    "    if serial in padict:\n",
    "        return padict[serial]\n",
    "    else:\n",
    "        return 2\n",
    "\n",
    "def wrapNPsEMCCD(npdict,padict):\n",
    "    configdict = {}\n",
    "    for serial in npdict:\n",
    "        camdict = {}\n",
    "        camdict['properties'] = {'noiseProperties': npdict[serial], 'preampGain':getpreamp(padict,serial)}\n",
    "        camdict['name'] = 'Andor IXON'\n",
    "        camdict['model'] = 'unknown' # could these be different IXON models?\n",
    "        configdict[serial] = camdict\n",
    "    return configdict"
   ]
  },
  {
   "cell_type": "code",
   "execution_count": 7,
   "metadata": {},
   "outputs": [],
   "source": [
    "emccd_dict = wrapNPsEMCCD(emCCD_properties['noiseProperties'],emCCD_properties['preampGain'])"
   ]
  },
  {
   "cell_type": "code",
   "execution_count": 8,
   "metadata": {},
   "outputs": [],
   "source": [
    "# here we dump these dicts into yamls for the two camera types separately\n",
    "yaml.safe_dump(scmos_dict, file('AndorsCMOScams.yaml','w'), encoding='utf-8', allow_unicode=True)\n",
    "yaml.safe_dump(emccd_dict, file('IXONcams.yaml','w'), encoding='utf-8', allow_unicode=True)"
   ]
  },
  {
   "cell_type": "markdown",
   "metadata": {},
   "source": [
    "### Heterogeneous dictionary structure that is adopted\n",
    "\n",
    "- each camera has an entry (dict-like) accessed by its serial number\n",
    "- the interesting stuff is in the `properties` slot\n",
    "- the `properties` slot has, based an camera type, different sub entries\n",
    "- by convention `name` and `model` slots are present to help identify cam type for the reader\n",
    "- other slots can be added, e.g. a `comment` slot if so desired, for now they are completely ignored\n",
    "\n",
    "Example of sCMOS type entry:"
   ]
  },
  {
   "cell_type": "code",
   "execution_count": 14,
   "metadata": {},
   "outputs": [
    {
     "name": "stdout",
     "output_type": "stream",
     "text": [
      "comment: a Sona entry where the noise property names are unicode strings; not sure\n",
      "  if this matters\n",
      "model: Sona\n",
      "name: Andor sCMOS\n",
      "properties:\n",
      "  noiseProperties:\n",
      "    12-bit (low noise):\n",
      "      ADOffset: 100\n",
      "      ElectronsPerCount: 0.45\n",
      "      ReadNoise: 1.21\n",
      "      SaturationThreshold: 1776\n",
      "    16-bit (high dynamic range):\n",
      "      ADOffset: 100\n",
      "      ElectronsPerCount: 1.08\n",
      "      ReadNoise: 1.84\n",
      "      SaturationThreshold: 44185\n",
      "\n"
     ]
    }
   ],
   "source": [
    "print(yaml.safe_dump( scmos_dict['CSC-00425'], encoding='utf-8', allow_unicode=True, default_flow_style=False, default_style=''))"
   ]
  },
  {
   "cell_type": "code",
   "execution_count": null,
   "metadata": {},
   "outputs": [],
   "source": []
  }
 ],
 "metadata": {
  "kernelspec": {
   "display_name": "Python 2",
   "language": "python",
   "name": "python2"
  },
  "language_info": {
   "codemirror_mode": {
    "name": "ipython",
    "version": 2
   },
   "file_extension": ".py",
   "mimetype": "text/x-python",
   "name": "python",
   "nbconvert_exporter": "python",
   "pygments_lexer": "ipython2",
   "version": "2.7.17"
  }
 },
 "nbformat": 4,
 "nbformat_minor": 2
}
