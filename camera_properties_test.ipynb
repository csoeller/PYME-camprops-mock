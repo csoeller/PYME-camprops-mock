{
 "cells": [
  {
   "cell_type": "code",
   "execution_count": 1,
   "id": "waiting-night",
   "metadata": {},
   "outputs": [],
   "source": [
    "from PYME.Acquire.Hardware.Simulator import fakeCam\n",
    "from PYME.Acquire.Hardware.Simulator import fakePiezo\n",
    "fp = fakePiezo.FakePiezo(100)\n",
    "cam = fakeCam.FakeCamera(256, #70*np.arange(0.0, 4*256.0),\n",
    "                         256, #70*np.arange(0.0, 256.0),\n",
    "                         fakeCam.NoiseMaker(),fp,\n",
    "                         pixel_size_nm=70.)"
   ]
  },
  {
   "cell_type": "code",
   "execution_count": 2,
   "id": "expired-examination",
   "metadata": {},
   "outputs": [
    {
     "data": {
      "text/plain": [
       "'FakeCam'"
      ]
     },
     "execution_count": 2,
     "metadata": {},
     "output_type": "execute_result"
    }
   ],
   "source": [
    "# all calls below require the new cam-noiseprops branch to work\n",
    "\n",
    "# we are using a yaml entry like this for the fake cam:\n",
    "\"\"\"\n",
    "FAKE-000:\n",
    "  model: FakeCam\n",
    "  preferredPreamGain: 3\n",
    "  noiseProperties:\n",
    "    Preamp mode 1:\n",
    "      ADOffset: 123\n",
    "      DefaultEMGain: 150\n",
    "      ElectronsPerCount: 27.32\n",
    "      NGainStages: 536\n",
    "      ReadNoise: 109.8\n",
    "      SaturationThreshold: 16383\n",
    "\"\"\"\n",
    "\n",
    "cam.get_cam_prop_or_default('model','unknown')"
   ]
  },
  {
   "cell_type": "code",
   "execution_count": 3,
   "id": "designed-greensboro",
   "metadata": {},
   "outputs": [
    {
     "data": {
      "text/plain": [
       "{'ADOffset': 123,\n",
       " 'DefaultEMGain': 150,\n",
       " 'ElectronsPerCount': 27.32,\n",
       " 'NGainStages': 536,\n",
       " 'ReadNoise': 109.8,\n",
       " 'SaturationThreshold': 16383}"
      ]
     },
     "execution_count": 3,
     "metadata": {},
     "output_type": "execute_result"
    }
   ],
   "source": [
    "cam._get_cam_noise_props()"
   ]
  },
  {
   "cell_type": "code",
   "execution_count": 4,
   "id": "important-creation",
   "metadata": {},
   "outputs": [
    {
     "data": {
      "text/plain": [
       "3"
      ]
     },
     "execution_count": 4,
     "metadata": {},
     "output_type": "execute_result"
    }
   ],
   "source": [
    "cam.get_cam_prop_or_default('preferredPreamGain',0)"
   ]
  },
  {
   "cell_type": "code",
   "execution_count": 5,
   "id": "difficult-twins",
   "metadata": {},
   "outputs": [
    {
     "data": {
      "text/plain": [
       "{'CSC-00425': {'comment': 'a Sona entry where the noise property names are unicode strings; not sure if this matters',\n",
       "  'model': 'Andor Sona',\n",
       "  'noiseProperties': {'12-bit (low noise)': {'ADOffset': 100,\n",
       "    'ElectronsPerCount': 0.45,\n",
       "    'ReadNoise': 1.21,\n",
       "    'SaturationThreshold': 1776},\n",
       "   '16-bit (high dynamic range)': {'ADOffset': 100,\n",
       "    'ElectronsPerCount': 1.08,\n",
       "    'ReadNoise': 1.84,\n",
       "    'SaturationThreshold': 44185}}},\n",
       " 'VSC-00954': {'model': 'Andor Zyla',\n",
       "  'noiseProperties': {'12-bit (high well capacity)': {'ADOffset': 100,\n",
       "    'ElectronsPerCount': 6.97,\n",
       "    'ReadNoise': 5.96,\n",
       "    'SaturationThreshold': 2047},\n",
       "   '12-bit (low noise)': {'ADOffset': 100,\n",
       "    'ElectronsPerCount': 0.28,\n",
       "    'ReadNoise': 1.1,\n",
       "    'SaturationThreshold': 2047},\n",
       "   '16-bit (low noise & high well capacity)': {'ADOffset': 100,\n",
       "    'ElectronsPerCount': 0.5,\n",
       "    'ReadNoise': 1.33,\n",
       "    'SaturationThreshold': 65535}}},\n",
       " 'VSC-02698': {'model': 'Andor Zyla',\n",
       "  'noiseProperties': {'12-bit (high well capacity)': {'ADOffset': 100,\n",
       "    'ElectronsPerCount': 7.38,\n",
       "    'ReadNoise': 6.64,\n",
       "    'SaturationThreshold': 2047},\n",
       "   '12-bit (low noise)': {'ADOffset': 100,\n",
       "    'ElectronsPerCount': 0.26,\n",
       "    'ReadNoise': 1.16,\n",
       "    'SaturationThreshold': 2047},\n",
       "   '16-bit (low noise & high well capacity)': {'ADOffset': 100,\n",
       "    'ElectronsPerCount': 0.49,\n",
       "    'ReadNoise': 1.36,\n",
       "    'SaturationThreshold': 65535}}},\n",
       " 'VSC-02858': {'model': 'Andor Zyla',\n",
       "  'noiseProperties': {'12-bit (high well capacity)': {'ADOffset': 100,\n",
       "    'ElectronsPerCount': 7.2,\n",
       "    'ReadNoise': 6.18,\n",
       "    'SaturationThreshold': 2047},\n",
       "   '12-bit (low noise)': {'ADOffset': 100,\n",
       "    'ElectronsPerCount': 0.3,\n",
       "    'ReadNoise': 1.19,\n",
       "    'SaturationThreshold': 2047},\n",
       "   '16-bit (low noise & high well capacity)': {'ADOffset': 100,\n",
       "    'ElectronsPerCount': 0.5,\n",
       "    'ReadNoise': 1.42,\n",
       "    'SaturationThreshold': 65535}}},\n",
       " 'FAKE-000': {'model': 'FakeCam',\n",
       "  'preferredPreamGain': 3,\n",
       "  'noiseProperties': {'Preamp mode 1': {'ADOffset': 123,\n",
       "    'DefaultEMGain': 150,\n",
       "    'ElectronsPerCount': 27.32,\n",
       "    'NGainStages': 536,\n",
       "    'ReadNoise': 109.8,\n",
       "    'SaturationThreshold': 16383}}},\n",
       " 1823: {'model': 'Andor IXON emCCD',\n",
       "  'noiseProperties': {'Preamp Gain 0': {'ADOffset': 971,\n",
       "    'DefaultEMGain': 150,\n",
       "    'ElectronsPerCount': 27.32,\n",
       "    'NGainStages': 536,\n",
       "    'ReadNoise': 109.8,\n",
       "    'SaturationThreshold': 16383}}},\n",
       " 5414: {'model': 'Andor IXON emCCD',\n",
       "  'noiseProperties': {'Preamp Gain 0': {'ADOffset': 413,\n",
       "    'DefaultEMGain': 90,\n",
       "    'ElectronsPerCount': 25.24,\n",
       "    'NGainStages': 536,\n",
       "    'ReadNoise': 61.33,\n",
       "    'SaturationThreshold': 16383}}},\n",
       " 7546: {'model': 'Andor IXON emCCD',\n",
       "  'noiseProperties': {'Preamp Gain 2': {'ADOffset': 150,\n",
       "    'DefaultEMGain': 85,\n",
       "    'ElectronsPerCount': 4.82,\n",
       "    'NGainStages': 536,\n",
       "    'ReadNoise': 85.23,\n",
       "    'SaturationThreshold': 65535}}},\n",
       " 7863: {'model': 'Andor IXON emCCD',\n",
       "  'noiseProperties': {'Preamp Gain 2': {'ADOffset': 203,\n",
       "    'DefaultEMGain': 90,\n",
       "    'ElectronsPerCount': 4.99,\n",
       "    'NGainStages': 536,\n",
       "    'ReadNoise': 88.1,\n",
       "    'SaturationThreshold': 54000.0}}}}"
      ]
     },
     "execution_count": 5,
     "metadata": {},
     "output_type": "execute_result"
    }
   ],
   "source": [
    "from PYME import config\n",
    "config.get_cam_props()"
   ]
  },
  {
   "cell_type": "code",
   "execution_count": null,
   "id": "brazilian-invasion",
   "metadata": {},
   "outputs": [],
   "source": []
  }
 ],
 "metadata": {
  "kernelspec": {
   "display_name": "Python 3",
   "language": "python",
   "name": "python3"
  },
  "language_info": {
   "codemirror_mode": {
    "name": "ipython",
    "version": 3
   },
   "file_extension": ".py",
   "mimetype": "text/x-python",
   "name": "python",
   "nbconvert_exporter": "python",
   "pygments_lexer": "ipython3",
   "version": "3.7.9"
  }
 },
 "nbformat": 4,
 "nbformat_minor": 5
}
