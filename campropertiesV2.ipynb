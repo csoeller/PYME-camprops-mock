{
 "cells": [
  {
   "cell_type": "markdown",
   "metadata": {},
   "source": [
    "### How to load yaml cam configs and access info\n",
    "\n",
    "- supply one config function to access cam dicts for noise properties\n",
    "- access functions in cam modules to access cam noise properties\n",
    "\n",
    "#### cam dict loading\n",
    "\n",
    "- keep it simple: load yamls in sequence from most general to most user specific directory\n",
    "- while walking through those directories construct a master dict that just gets updated with new info and would thus overwrite existing entries with the most user specific ones taking precendence\n",
    "\n",
    "Something like:\n",
    "\n",
    "```\n",
    "def config.loadCamInfo():\n",
    "    camdict = {}\n",
    "    for dir in config_cam_dirs:\n",
    "        for cam_yaml in find_yamls(dir): # perhaps we allow several files that get merged but not necessary\n",
    "            camdict.update(yaml.safe_load(cam_yaml)\n",
    "    return camdict\n",
    "```\n",
    "\n",
    "#### access functions\n",
    "\n",
    "- camera access functions that consult both hardcoded info and config cam properties to retrieve required info (precedence is config file over hardcoded)\n",
    "- examples below in fakecam classes\n"
   ]
  },
  {
   "cell_type": "markdown",
   "metadata": {},
   "source": [
    "### How to install site wide config files\n",
    "\n",
    "Here I suggest adopting a simple approach as we do for the plugin packages. A site-config repo would contain the cam config files (yaml) and an `install_cams.py` script that copies the relevant camera file(s) to the desired level config directory. (very much similar to the `install_plugins.py` script)\n",
    "\n",
    "If we have just one camera config file, rather than a camera directory, there may have to be a way to merge entries into the current directory."
   ]
  },
  {
   "cell_type": "markdown",
   "metadata": {},
   "source": [
    "### mock functionality that would go in some fashion into PYME.config"
   ]
  },
  {
   "cell_type": "code",
   "execution_count": 1,
   "metadata": {},
   "outputs": [],
   "source": [
    "# this code is supposed to simulate functionality that will reside in the PYME.config module eventually\n",
    "# it glosses obver the details how the directories are traversed etc but gives the general idea below\n",
    "\n",
    "# this will be filled by a cached read that gets triggered the first time getCamNoiseProps is used\n",
    "_camNoiseProps = None\n",
    "\n",
    "# here we read the two files we made (for Andor emCCD and sCMOS) from the info in the hardcoded dicts\n",
    "# in reality we would walk through the config directories\n",
    "# this should be fairly trivial to implement and just needs agreement how we do this, i.e. one single file\n",
    "# per config directory or allow several files with a 'cameras' subdirectory in each config directory\n",
    "import yaml\n",
    "import glob\n",
    "def config_readCamNoiseProps():\n",
    "    global _camNoiseProps\n",
    "    _camNoiseProps = {}\n",
    "    for yamlfile in glob.glob('*.yaml'):\n",
    "        with open(yamlfile,'r') as fi:\n",
    "            _camNoiseProps.update(yaml.safe_load(fi))\n",
    "\n",
    "            \n",
    "def config_getCamNoiseProps(serno,preampmode):\n",
    "    if _camNoiseProps is None:\n",
    "        config_readCamNoiseProps()\n",
    "    if serno in _camNoiseProps:\n",
    "        try:\n",
    "            return _camNoiseProps[serno]['noiseProperties'][preampmode]\n",
    "        except KeyError:\n",
    "            return None\n",
    "    else:\n",
    "        return None"
   ]
  },
  {
   "cell_type": "markdown",
   "metadata": {},
   "source": [
    "### Heterogeneous dictionary structure that is adopted\n",
    "\n",
    "- each camera has an entry (dict-like) accessed by its serial number\n",
    "- the critical stuff is in the `noiseProperties` slot (can discuss what naming convention to use, CapWords vs underscore separated, not sure what the Python conventions are nor if PYME religously follows those)\n",
    "- the `noiseProperties` slot has, based an camera type, sub entries listed by a (generally string based) pre-amp specification \n",
    "- by convention a `model` slot is present to help identify cam type for the reader; currently it is not checked so no stringent model naming is required\n",
    "- other slots can be added, e.g. a `comment` slot if so desired, for now they are completely ignored\n",
    "\n",
    "Example of sCMOS type entry:"
   ]
  },
  {
   "cell_type": "code",
   "execution_count": 2,
   "metadata": {
    "scrolled": true
   },
   "outputs": [
    {
     "name": "stdout",
     "output_type": "stream",
     "text": [
      "ADOffset: 100\n",
      "ElectronsPerCount: 0.28\n",
      "ReadNoise: 1.1\n",
      "SaturationThreshold: 2047\n",
      "\n"
     ]
    }
   ],
   "source": [
    "print(yaml.dump(config_getCamNoiseProps('VSC-00954','12-bit (low noise)'), default_flow_style=False, default_style='' ))"
   ]
  },
  {
   "cell_type": "markdown",
   "metadata": {},
   "source": [
    "Example of emCCD type entry:"
   ]
  },
  {
   "cell_type": "code",
   "execution_count": 3,
   "metadata": {
    "scrolled": true
   },
   "outputs": [
    {
     "name": "stdout",
     "output_type": "stream",
     "text": [
      "ADOffset: 971\n",
      "DefaultEMGain: 150\n",
      "ElectronsPerCount: 27.32\n",
      "NGainStages: 536\n",
      "ReadNoise: 109.8\n",
      "SaturationThreshold: 16383\n",
      "\n"
     ]
    }
   ],
   "source": [
    "print(yaml.dump(config_getCamNoiseProps(1823,'EM preamp mode 0'), default_flow_style=False, default_style='' ))"
   ]
  },
  {
   "cell_type": "markdown",
   "metadata": {},
   "source": [
    "### A couple of fake cams to exercise the cam property lookup\n",
    "\n",
    "The `@property` bits suggest possible implementations of the lookup mechanism"
   ]
  },
  {
   "cell_type": "code",
   "execution_count": 4,
   "metadata": {},
   "outputs": [],
   "source": [
    "class fakecamBase(object):\n",
    "    _hardcoded_noise_properties = {} # no hardcoded cams\n",
    "    \n",
    "    def __init__(self):\n",
    "        pass\n",
    "    \n",
    "    def _preamp_mode(self):\n",
    "        \"\"\"\n",
    "        Should return a representation of the camera preamp mode that can be used as a dictionary key.\n",
    "        \"\"\"        \n",
    "        return 'default'\n",
    "        \n",
    "    @property\n",
    "    def noise_properties(self):\n",
    "        \"\"\"return the noise properties for the given camera\n",
    "\n",
    "        \"\"\"\n",
    "        serno = self.GetSerialNumber()\n",
    "        np = config_getCamNoiseProps(serno,self._preamp_mode())\n",
    "        if np is not None:\n",
    "            return np\n",
    "        # if we get to here fall back to hardcoded cameras\n",
    "        try:\n",
    "            return self._hardcoded_noise_properties[serno]['noiseProperties'][self._preamp_mode()]\n",
    "        except KeyError: # last resort is default set of values\n",
    "            raise RuntimeError('camera specific noise props not found for serial no \"%s\" and preamp mode \"%s\"' \n",
    "                               % (serno,self._preamp_mode()))"
   ]
  },
  {
   "cell_type": "code",
   "execution_count": 5,
   "metadata": {},
   "outputs": [],
   "source": [
    "class fakecamCMOS(fakecamBase):   \n",
    "    \n",
    "    def __init__(self):\n",
    "        self.serno = 'CSC-00425'\n",
    "        pass\n",
    "    \n",
    "    def GetSerialNumber(self):\n",
    "        return self.serno\n",
    "    \n",
    "    def SetSerialNumber(self, serno):\n",
    "        self.serno = serno\n",
    "    \n",
    "    def GetSimpleGainMode(self):\n",
    "        return '12-bit (low noise)'\n",
    "\n",
    "    def _preamp_mode(self):\n",
    "        return self.GetSimpleGainMode()"
   ]
  },
  {
   "cell_type": "code",
   "execution_count": 6,
   "metadata": {},
   "outputs": [],
   "source": [
    "fc = fakecamCMOS()"
   ]
  },
  {
   "cell_type": "code",
   "execution_count": 7,
   "metadata": {},
   "outputs": [
    {
     "data": {
      "text/plain": [
       "{'ADOffset': 100,\n",
       " 'ElectronsPerCount': 0.45,\n",
       " 'ReadNoise': 1.21,\n",
       " 'SaturationThreshold': 1776}"
      ]
     },
     "execution_count": 7,
     "metadata": {},
     "output_type": "execute_result"
    }
   ],
   "source": [
    "config_getCamNoiseProps(fc.GetSerialNumber(),fc._preamp_mode())"
   ]
  },
  {
   "cell_type": "code",
   "execution_count": 8,
   "metadata": {},
   "outputs": [
    {
     "data": {
      "text/plain": [
       "{'ADOffset': 100,\n",
       " 'ElectronsPerCount': 0.45,\n",
       " 'ReadNoise': 1.21,\n",
       " 'SaturationThreshold': 1776}"
      ]
     },
     "execution_count": 8,
     "metadata": {},
     "output_type": "execute_result"
    }
   ],
   "source": [
    "fc.noise_properties"
   ]
  },
  {
   "cell_type": "code",
   "execution_count": 9,
   "metadata": {},
   "outputs": [],
   "source": [
    "def getpreamp(padict,serial):\n",
    "    if serial in padict:\n",
    "        return padict[serial]\n",
    "    else:\n",
    "        return 2\n",
    "\n",
    "# this function would do some invertable way of creating a unique pream setting identifier\n",
    "# so this likely *not* the eventual way that will be chosen\n",
    "def getPreampModeString(mode):\n",
    "    return 'EM preamp mode %d' % mode\n",
    "\n",
    "\n",
    "class fakecamEmCCD(fakecamBase):\n",
    "    _noise_properties = {\n",
    "        4532 : { #Gain setting of 1\n",
    "        'ReadNoise' : 56.1,\n",
    "        'ElectronsPerCount' : 3.6,\n",
    "        'NGainStages' : 345,\n",
    "        'ADOffset' : 203,\n",
    "        'DefaultEMGain' : 90,\n",
    "        'SaturationThreshold' : 5.4e4#(2**16 -1)\n",
    "        }\n",
    "    } # no hardcoded cams\n",
    "    _preamp_gains = {\n",
    "        4532 : 1\n",
    "    }\n",
    "        \n",
    "    def __init__(self):\n",
    "        self._wrapOldStyleNPs()\n",
    "        self.serno = 1823\n",
    "        self.preampGain = 0\n",
    "    \n",
    "    # instead of manually rewriting the old style noise props we provide code to convert old entries to the new style\n",
    "    def _wrapOldStyleNPs(self):\n",
    "        configdict = {}\n",
    "        for serial in self._noise_properties:\n",
    "            camdict = {}\n",
    "            camdict['noiseProperties'] = { getPreampModeString(self._preamp_gains[serial]) : self._noise_properties[serial]}\n",
    "            camdict['model'] = 'Andor IXON emCCD' # could these be different IXON models?\n",
    "            configdict[serial] = camdict\n",
    "        self._hardcoded_noise_properties = configdict\n",
    "\n",
    "    def GetSerialNumber(self):\n",
    "        return self.serno\n",
    "    \n",
    "    def SetSerialNumber(self, serno):\n",
    "        self.serno = serno\n",
    "    \n",
    "    # we are overriding the base class implementation to supply the preamp info\n",
    "    # for the actual IXONs a more complex conversion function may be required if there is more than one gain\n",
    "    # to encode in this field\n",
    "    def _preamp_mode(self):\n",
    "        return 'EM preamp mode %d' % self.preampGain"
   ]
  },
  {
   "cell_type": "code",
   "execution_count": 10,
   "metadata": {},
   "outputs": [],
   "source": [
    "fce = fakecamEmCCD()"
   ]
  },
  {
   "cell_type": "code",
   "execution_count": 11,
   "metadata": {},
   "outputs": [
    {
     "name": "stdout",
     "output_type": "stream",
     "text": [
      "0\n"
     ]
    },
    {
     "data": {
      "text/plain": [
       "{'ADOffset': 413,\n",
       " 'DefaultEMGain': 90,\n",
       " 'ElectronsPerCount': 25.24,\n",
       " 'NGainStages': 536,\n",
       " 'ReadNoise': 61.33,\n",
       " 'SaturationThreshold': 16383}"
      ]
     },
     "execution_count": 11,
     "metadata": {},
     "output_type": "execute_result"
    }
   ],
   "source": [
    "fce.SetSerialNumber(5414)\n",
    "print(fce.preampGain)\n",
    "fce.noise_properties"
   ]
  },
  {
   "cell_type": "code",
   "execution_count": 12,
   "metadata": {},
   "outputs": [
    {
     "name": "stdout",
     "output_type": "stream",
     "text": [
      "1\n"
     ]
    },
    {
     "data": {
      "text/plain": [
       "{'ADOffset': 203,\n",
       " 'DefaultEMGain': 90,\n",
       " 'ElectronsPerCount': 3.6,\n",
       " 'NGainStages': 345,\n",
       " 'ReadNoise': 56.1,\n",
       " 'SaturationThreshold': 54000.0}"
      ]
     },
     "execution_count": 12,
     "metadata": {},
     "output_type": "execute_result"
    }
   ],
   "source": [
    "# now access the hardcoded cam\n",
    "fce.SetSerialNumber(4532)\n",
    "fce.preampGain = 1\n",
    "print(fce.preampGain)\n",
    "fce.noise_properties"
   ]
  },
  {
   "cell_type": "code",
   "execution_count": 13,
   "metadata": {},
   "outputs": [
    {
     "name": "stdout",
     "output_type": "stream",
     "text": [
      "0\n"
     ]
    },
    {
     "ename": "RuntimeError",
     "evalue": "camera specific noise props not found for serial no \"4532\" and preamp mode \"EM preamp mode 0\"",
     "output_type": "error",
     "traceback": [
      "\u001b[0;31m\u001b[0m",
      "\u001b[0;31mRuntimeError\u001b[0mTraceback (most recent call last)",
      "\u001b[0;32m<ipython-input-13-625721d43a54>\u001b[0m in \u001b[0;36m<module>\u001b[0;34m()\u001b[0m\n\u001b[1;32m      3\u001b[0m \u001b[0mfce\u001b[0m\u001b[0;34m.\u001b[0m\u001b[0mpreampGain\u001b[0m \u001b[0;34m=\u001b[0m \u001b[0;36m0\u001b[0m\u001b[0;34m\u001b[0m\u001b[0m\n\u001b[1;32m      4\u001b[0m \u001b[0;32mprint\u001b[0m\u001b[0;34m(\u001b[0m\u001b[0mfce\u001b[0m\u001b[0;34m.\u001b[0m\u001b[0mpreampGain\u001b[0m\u001b[0;34m)\u001b[0m\u001b[0;34m\u001b[0m\u001b[0m\n\u001b[0;32m----> 5\u001b[0;31m \u001b[0mfce\u001b[0m\u001b[0;34m.\u001b[0m\u001b[0mnoise_properties\u001b[0m\u001b[0;34m\u001b[0m\u001b[0m\n\u001b[0m",
      "\u001b[0;32m<ipython-input-4-ae0ab1bd9e4d>\u001b[0m in \u001b[0;36mnoise_properties\u001b[0;34m(self)\u001b[0m\n\u001b[1;32m     25\u001b[0m         \u001b[0;32mexcept\u001b[0m \u001b[0mKeyError\u001b[0m\u001b[0;34m:\u001b[0m \u001b[0;31m# last resort is default set of values\u001b[0m\u001b[0;34m\u001b[0m\u001b[0m\n\u001b[1;32m     26\u001b[0m             raise RuntimeError('camera specific noise props not found for serial no \"%s\" and preamp mode \"%s\"' \n\u001b[0;32m---> 27\u001b[0;31m                                % (serno,self._preamp_mode()))\n\u001b[0m",
      "\u001b[0;31mRuntimeError\u001b[0m: camera specific noise props not found for serial no \"4532\" and preamp mode \"EM preamp mode 0\""
     ]
    }
   ],
   "source": [
    "# now access the hardcoded cam\n",
    "fce.SetSerialNumber(4532)\n",
    "fce.preampGain = 0\n",
    "print(fce.preampGain)\n",
    "fce.noise_properties"
   ]
  },
  {
   "cell_type": "code",
   "execution_count": null,
   "metadata": {},
   "outputs": [],
   "source": []
  }
 ],
 "metadata": {
  "kernelspec": {
   "display_name": "Python 2",
   "language": "python",
   "name": "python2"
  },
  "language_info": {
   "codemirror_mode": {
    "name": "ipython",
    "version": 2
   },
   "file_extension": ".py",
   "mimetype": "text/x-python",
   "name": "python",
   "nbconvert_exporter": "python",
   "pygments_lexer": "ipython2",
   "version": "2.7.17"
  }
 },
 "nbformat": 4,
 "nbformat_minor": 2
}
